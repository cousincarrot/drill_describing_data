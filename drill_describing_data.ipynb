{
 "cells": [
  {
   "cell_type": "code",
   "execution_count": 1,
   "metadata": {},
   "outputs": [],
   "source": [
    "import matplotlib.pyplot as plt\n",
    "%matplotlib inline\n",
    "import numpy as np\n",
    "import pandas as pd\n",
    "import math\n",
    "import statistics"
   ]
  },
  {
   "cell_type": "markdown",
   "metadata": {},
   "source": [
    "1. Greg was 14, Marcia was 12, Peter was 11, Jan was 10, Bobby was 8, and Cindy was 6 when they started playing the Brady kids on The Brady Bunch. Cousin Oliver was 8 years old when he joined the show. What are the mean, median, and mode of the kids' ages when they first appeared on the show? What are the variance, standard deviation, and standard error?\n",
    "\n",
    "2. Using these estimates, if you had to choose only one estimate of central tendency and one estimate of variance to describe the data, which would you pick and why?\n",
    "\n",
    "3. Next, Cindy has a birthday. Update your estimates- what changed, and what didn't?\n",
    "\n",
    "4. Nobody likes Cousin Oliver. Maybe the network should have used an even younger actor. Replace Cousin Oliver with 1-year-old Jessica, then recalculate again. Does this change your choice of central tendency or variance estimation methods?\n",
    "\n",
    "5. On the 50th anniversary of The Brady Bunch, four different magazines asked their readers whether they were fans of the show. The answers were: TV Guide 20% fans Entertainment Weekly 23% fans Pop Culture Today 17% fans SciPhi Phanatic 5% fans. Based on these numbers, what percentage of adult Americans would you estimate were Brady Bunch fans on the 50th anniversary of the show?"
   ]
  },
  {
   "cell_type": "markdown",
   "metadata": {},
   "source": [
    "First, let's include the \"paper\" work I did with my textual answers, followed by an example of the working code.\n",
    "\n",
    "(1) Greg was 14, Marcia was 12, Peter was 11, Jan was 10, Bobby was 8, and Cindy was 6 when they started playing the Brady kids on The Brady Bunch. Cousin Oliver was 8 years old when he joined the show. What are the mean, median, and mode of the kids' ages when they first appeared on the show? What are the variance, standard deviation, and standard error?\n",
    "\n",
    "Mean = sum of ages/number of data points\n",
    "14 + 12 + 11 + 10 + 8 + 6 + 8 / 7 = 9.85\n",
    "\n",
    "Median = mid point = 10\n",
    "\n",
    "Mode = most repeated number = 8\n",
    "\n",
    "variance = sum((x - mean) ** 2) / (n - 1)\n",
    "v = sum((each data point’s distance from the mean) ** 2(squared)) / (number of data points - 1)\n",
    "v =  ((4.15 ** 2) + (2.15 ** 2) + (1.15 ** 2) + (0.15 ** 2) + (2.15 ** 2) +  (4.15 ** 2)  + (2.15 ** 2) / (7-1)\n",
    "v = (17.22 + 4.62 + 1.32 + 0.02 + 4.62 +17.22 + 4.62) / 6\n",
    "v = 49.64 / 6 ~ 8.27\n",
    "\n",
    "standard deviation = variance ** 0.5\n",
    "s = v  ** 0.5\n",
    "s = 8.27 ** 0.5 = √8.27 = 2.87\n",
    "\n",
    "standard error = standard deviation / (number of data points ** 0.5)\n",
    "se = s / (n ** 0.5)\n",
    "se = 2.87 / (7 ** 0.5) = 2.87 / 2.64 ~ 1.08\n",
    "\n",
    "(2) Using these estimates, if you had to choose only one estimate of central tendency and one estimate of variance to describe the data, which would you pick and why?\n",
    "\n",
    "I would choose the MEAN because it’s the median of the 3 central tendency results, which seems like a reasonable choice to me.\n",
    "\n",
    "As for the variance, if I choose the Standard Deviation to describe the data, I would have a good idea of the scope or the “width” of the data as a whole, while describing the Standard Error or margin of error would tell us a range for where the mean is instead of a single number, so to speak. I think since I chose the Mean previously, it's perhaps a descriptor of the data I value, so I would use the SE to describe it further, and give some cool, easily read vertical lines on the potential graph.\n",
    "\n",
    "\n",
    "\n",
    "\n",
    "(3) Next, Cindy has a birthday. Update your estimates- what changed, and what didn't?\n",
    "\n",
    "Mean = sum of ages/number of data points\n",
    "14 + 12 + 11 + 10 + 8 +7 + 8 / 7 = 10\n",
    "\n",
    "Median = mid point = 10 (same)\n",
    "\n",
    "Mode = most repeated number = 8 (same)\n",
    "\n",
    "variance = sum((x - mean) ** 2) / (n - 1)\n",
    "v = sum((each data point’s distance from the mean) ** 2(squared)) / (number of data points - 1)\n",
    "v =  ((4 ** 2) + (2 ** 2) + (1 ** 2) + (0 ** 2) + (2 ** 2) +  (4 ** 2)  + (2 ** 2) / (7-1)\n",
    "v = (16 + 4 + 1 + 0 + 4 +16 + 4) / 6\n",
    "v = 45 / 6 = 7.5\n",
    "\n",
    "standard deviation = variance ** 0.5\n",
    "s = v  ** 0.5\n",
    "s = 7.5 ** 0.5 = √7.5 = 2.74\n",
    "\n",
    "standard error = standard deviation / (number of data points ** 0.5)\n",
    "se = s / (n ** 0.5)\n",
    "se = 2.74 / (7 ** 0.5) = 2.74 / 2.64 ~ 1.04\n",
    "\n",
    "In this case the Mean definitely changed, but the Mode and Median did not. It affected the Standard Deviation up to the 10ths decimal place, and the standard error up to the hundredths place. It does not feel like a significant change, across the board.\n",
    "\n",
    "(4) Nobody likes Cousin Oliver. Maybe the network should have used an even younger actor. Replace Cousin Oliver with 1-year-old Jessica, then recalculate again. Does this change your choice of central tendency or variance estimation methods?\n",
    "\n",
    "Has Cindy still had her birthday in this case? I will assume so.\n",
    "\n",
    "Mean = sum of ages/number of data points\n",
    "14 + 12 + 11 + 10 + 8 +7 + 1 / 7 = 9\n",
    "\n",
    "Median = mid point = 10 (same)\n",
    "\n",
    "Mode = most repeated number = n/a\n",
    "\n",
    "variance = sum((x - mean) ** 2) / (n - 1)\n",
    "v = sum((each data point’s distance from the mean) ** 2(squared)) / (number of data points - 1)\n",
    "v =  ((5 ** 2) + (3 ** 2) + (2 ** 2) + (1 ** 2) + (1** 2) +  (2 ** 2)  + (8 ** 2) / (7-1)\n",
    "v = (25 + 9 + 4 + 1 + 1 + 4 + 64 ) / 6\n",
    "v = 108 / 6 = 18\n",
    "\n",
    "standard deviation = variance ** 0.5\n",
    "s = v  ** 0.5\n",
    "s = 18 ** 0.5 = √18 = 4.24\n",
    "\n",
    "standard error = standard deviation / (number of data points ** 0.5)\n",
    "se = s / (n ** 0.5)\n",
    "se = 4.24 / (7 ** 0.5) = 4.24 / 2.64 ~ 1.61\n",
    "\n",
    "I would still choose Mean and also Standard Error in this case. The standard deviation definitely went way up, and though the Mean had a seemingly significant change as well, I think utilizing the Standard Error to describe the mean is a good choice, as it seems to have described / balanced the wild “1” data that was thrown in there.\n",
    "\n",
    "(5) On the 50th anniversary of The Brady Bunch, four different magazines asked their readers whether they were fans of the show. The answers were: TV Guide 20% fans Entertainment Weekly 23% fans Pop Culture Today 17% fans SciPhi Phanatic 5% fans. Based on these numbers, what percentage of adult Americans would you estimate were Brady Bunch fans on the 50th anniversary of the show?\n",
    "\n",
    "\n",
    "Mean = sum of percentages/number of data points\n",
    "20 + 23 + 17 + 5 / 4 = 16.25\n",
    "\n",
    "Median = mid point = (20 + 17)/2 = 18.5\n",
    "\n",
    "Mode = most repeated number = n/a\n",
    "\n",
    "variance = sum((x - mean) ** 2) / (n - 1)\n",
    "v = sum((each data point’s distance from the mean) ** 2(squared)) / (number of data points - 1)\n",
    "v =  ((3.75 ** 2) + (6.75 ** 2) + (0.75 ** 2) + (11.25 ** 2)/ (4-1)\n",
    "v = ( 14.06 + 45.56 + 0.56 + 126.56) / 3\n",
    "v = 186.74 / 3 = 62.25\n",
    "\n",
    "standard deviation = variance ** 0.5\n",
    "s = v  ** 0.5\n",
    "s = 62.25 ** 0.5 = √62.25 = 7.89\n",
    "\n",
    "standard error = standard deviation / (number of data points ** 0.5)\n",
    "se = s / (n ** 0.5)\n",
    "se = 7.89 / (4 ** 0.5) = 7.89 / 2 = 3.95\n",
    "Here the 5 really affects the rest of the numbers, that seem to be more clustered. 5 is an outlier. Because of this, I might use the Median over the Mean because it is higher. The Standard Deviation in this case appears so high next to the data points that it really describes the issue with 5 well. It may be a bit redundant. I think the Standard Error would probably be a good choice as well.\n"
   ]
  },
  {
   "cell_type": "code",
   "execution_count": 14,
   "metadata": {},
   "outputs": [],
   "source": [
    "ages = [14, 12, 11, 10, 8, 6, 8]"
   ]
  },
  {
   "cell_type": "code",
   "execution_count": 15,
   "metadata": {},
   "outputs": [],
   "source": [
    "mean = sum(ages)/len(ages)"
   ]
  },
  {
   "cell_type": "code",
   "execution_count": 16,
   "metadata": {},
   "outputs": [
    {
     "data": {
      "text/plain": [
       "9.86"
      ]
     },
     "execution_count": 16,
     "metadata": {},
     "output_type": "execute_result"
    }
   ],
   "source": [
    "round(mean, 2)"
   ]
  },
  {
   "cell_type": "code",
   "execution_count": 17,
   "metadata": {},
   "outputs": [
    {
     "data": {
      "text/plain": [
       "9.857142857142858"
      ]
     },
     "execution_count": 17,
     "metadata": {},
     "output_type": "execute_result"
    }
   ],
   "source": [
    "np.mean(ages)"
   ]
  },
  {
   "cell_type": "code",
   "execution_count": 18,
   "metadata": {},
   "outputs": [],
   "source": [
    "#Median"
   ]
  },
  {
   "cell_type": "code",
   "execution_count": 19,
   "metadata": {},
   "outputs": [
    {
     "name": "stdout",
     "output_type": "stream",
     "text": [
      "[6, 8, 8, 10, 11, 12, 14]\n"
     ]
    }
   ],
   "source": [
    "ages.sort()\n",
    "print(ages)"
   ]
  },
  {
   "cell_type": "code",
   "execution_count": 20,
   "metadata": {},
   "outputs": [],
   "source": [
    "# center = math.ceil(len(ages)/2)\n",
    "# print(center)\n",
    "# median = ages.index[center]\n",
    "# median"
   ]
  },
  {
   "cell_type": "code",
   "execution_count": 21,
   "metadata": {},
   "outputs": [
    {
     "data": {
      "text/plain": [
       "10.0"
      ]
     },
     "execution_count": 21,
     "metadata": {},
     "output_type": "execute_result"
    }
   ],
   "source": [
    "np.median(ages)"
   ]
  },
  {
   "cell_type": "code",
   "execution_count": 22,
   "metadata": {},
   "outputs": [],
   "source": [
    "#Mode"
   ]
  },
  {
   "cell_type": "code",
   "execution_count": 23,
   "metadata": {},
   "outputs": [
    {
     "data": {
      "text/plain": [
       "8"
      ]
     },
     "execution_count": 23,
     "metadata": {},
     "output_type": "execute_result"
    }
   ],
   "source": [
    "statistics.mode(ages)"
   ]
  },
  {
   "cell_type": "code",
   "execution_count": 24,
   "metadata": {},
   "outputs": [
    {
     "name": "stdout",
     "output_type": "stream",
     "text": [
      "[6, 8, 8, 10, 11, 12, 14]\n"
     ]
    }
   ],
   "source": [
    "print(ages)"
   ]
  },
  {
   "cell_type": "code",
   "execution_count": null,
   "metadata": {},
   "outputs": [],
   "source": []
  },
  {
   "cell_type": "code",
   "execution_count": 26,
   "metadata": {},
   "outputs": [],
   "source": [
    "#Variance v = sum((each data point’s distance from the mean) ** 2(squared)) / (number of data points - 1)"
   ]
  },
  {
   "cell_type": "code",
   "execution_count": 27,
   "metadata": {},
   "outputs": [
    {
     "name": "stdout",
     "output_type": "stream",
     "text": [
      "[14.877551020408168, 3.4489795918367365, 3.4489795918367365, 0.02040816326530598, 1.3061224489795906, 4.591836734693875, 17.163265306122444]\n"
     ]
    }
   ],
   "source": [
    "x = 0\n",
    "var_sq = [0, 0, 0, 0, 0, 0, 0]\n",
    "\n",
    "for entry in ages:\n",
    "    var_sq[x] = (abs(mean - ages[x]) ** 2)\n",
    "    x += 1\n",
    "print(var_sq)"
   ]
  },
  {
   "cell_type": "code",
   "execution_count": 28,
   "metadata": {},
   "outputs": [
    {
     "name": "stdout",
     "output_type": "stream",
     "text": [
      "7.476190476190475\n"
     ]
    }
   ],
   "source": [
    "v = sum(var_sq) / (len(ages) - 1)\n",
    "print(v)"
   ]
  },
  {
   "cell_type": "code",
   "execution_count": 29,
   "metadata": {},
   "outputs": [],
   "source": [
    "#Standard Deviation"
   ]
  },
  {
   "cell_type": "code",
   "execution_count": 30,
   "metadata": {},
   "outputs": [
    {
     "data": {
      "text/plain": [
       "2.734262327610589"
      ]
     },
     "execution_count": 30,
     "metadata": {},
     "output_type": "execute_result"
    }
   ],
   "source": [
    "#s = v  ** 0.5\n",
    "s = v ** 0.5\n",
    "s"
   ]
  },
  {
   "cell_type": "code",
   "execution_count": 31,
   "metadata": {},
   "outputs": [
    {
     "data": {
      "text/plain": [
       "[]"
      ]
     },
     "execution_count": 31,
     "metadata": {},
     "output_type": "execute_result"
    },
    {
     "data": {
      "image/png": "[encoded data removed]",
      "text/plain": [
       "<matplotlib.figure.Figure at 0x2c2495e5b00>"
      ]
     },
     "metadata": {},
     "output_type": "display_data"
    }
   ],
   "source": [
    "plt.hist(ages)\n",
    "\n",
    "#add vertical lines to represent the mean and std deviation.\n",
    "plt.axvline(mean, color='#333333', linestyle='solid', linewidth=1, alpha=0.75)\n",
    "plt.axvline(mean + s, color='#666666', linestyle='dashed', linewidth=1, alpha=0.75)\n",
    "plt.axvline(mean - s, color='#666666', linestyle='dashed', linewidth=1, alpha=0.75)\n",
    "\n",
    "\n",
    "plt.plot()"
   ]
  },
  {
   "cell_type": "code",
   "execution_count": null,
   "metadata": {},
   "outputs": [],
   "source": []
  }
 ],
 "metadata": {
  "kernelspec": {
   "display_name": "Python 3",
   "language": "python",
   "name": "python3"
  },
  "language_info": {
   "codemirror_mode": {
    "name": "ipython",
    "version": 3
   },
   "file_extension": ".py",
   "mimetype": "text/x-python",
   "name": "python",
   "nbconvert_exporter": "python",
   "pygments_lexer": "ipython3",
   "version": "3.6.4"
  }
 },
 "nbformat": 4,
 "nbformat_minor": 2
}
